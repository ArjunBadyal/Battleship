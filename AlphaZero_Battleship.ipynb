{
 "cells": [
  {
   "cell_type": "code",
   "execution_count": null,
   "metadata": {},
   "outputs": [],
   "source": [
    "import torch.optim as optim\n",
    "import Alpha0\n",
    "from random import random, randrange\n",
    "from battleships import Battleships\n",
    "#from battleships2 import Battleships2\n",
    "import torch\n",
    "import numpy as np\n",
    "import torch.nn as nn\n",
    "import torch.nn.functional as F\n",
    "from copy import copy\n",
    "\n",
    "from collections import deque\n",
    "import MCTS\n",
    "import progressbar as pb\n",
    "\n",
    "game = Battleships()\n",
    "#game2 = Battleships2()"
   ]
  },
  {
   "cell_type": "code",
   "execution_count": null,
   "metadata": {},
   "outputs": [],
   "source": [
    "def placeShips(game):\n",
    "        while True:\n",
    "            boats = []\n",
    "            directions = []\n",
    "\n",
    "            for boat in game.ships:\n",
    "                down: bool = random() >= 0.5\n",
    "                directions.append(down)\n",
    "                x: int = randrange(10 - (boat if not down else 0))\n",
    "                y: int = randrange(10 - (boat if down else 0))\n",
    "                boats.append((x, y))\n",
    "\n",
    "            # If all 5 boat's positions are good we're done\n",
    "            if game.place(boats, directions): break"
   ]
  },
  {
   "cell_type": "code",
   "execution_count": null,
   "metadata": {},
   "outputs": [],
   "source": []
  },
  {
   "cell_type": "code",
   "execution_count": null,
   "metadata": {},
   "outputs": [],
   "source": [
    "policy = Alpha0.Policy()\n",
    "policy = policy.cuda()\n",
    "print(next(policy.parameters()).is_cuda)\n",
    "optimizer = optim.Adam(policy.parameters(), lr=.01, weight_decay=1.e-5)"
   ]
  },
  {
   "cell_type": "code",
   "execution_count": null,
   "metadata": {},
   "outputs": [],
   "source": [
    "import MCTS\n",
    "episodes = 600\n",
    "\n",
    "widget = ['training loop: ', pb.Percentage(), ' ',\n",
    "          pb.Bar(), ' ', pb.ETA()]\n",
    "timer = pb.ProgressBar(widgets=widget, maxval=episodes).start()\n",
    "\n",
    "outcomes = []\n",
    "policy_loss = []\n",
    "\n",
    "Nmax = 10\n",
    "\n",
    "for e in range(episodes):\n",
    "    #game = Battleships2()\n",
    "    #game = Battleships()\n",
    "    mytree = MCTS.Node(game)\n",
    "    #print(game.state)\n",
    "    #game.state = 0 * abs(game.state)\n",
    "    #game.placeShips\n",
    "    #game.placeShips\n",
    "    placeShips(game)\n",
    "    placeShips(game)\n",
    "\n",
    "    logterm = []\n",
    "    vterm = []\n",
    "\n",
    "    while mytree.outcome is None:\n",
    "\n",
    "        for _ in range(Nmax):\n",
    "            mytree.explore(policy)\n",
    "            if mytree.N >= Nmax:\n",
    "                break\n",
    "        #print(_)\n",
    "        current_player = mytree.game.player\n",
    "        mytree, (v, nn_v, p, nn_p) = mytree.next()\n",
    "        mytree.detach_mother()\n",
    "\n",
    "        loglist = torch.log(nn_p) * p\n",
    "        \n",
    "        constant = torch.where(p > 0, p * torch.log(p), torch.tensor(0.).cuda())\n",
    "        logterm.append(-torch.sum(loglist - constant))\n",
    "        \n",
    "\n",
    "        vterm.append(nn_v * current_player)\n",
    "        #print(game.state)\n",
    "              \n",
    "        #game.fire(mytree.game.last_move)\n",
    "      \n",
    "\n",
    "    # we compute the \"policy_loss\" for computing gradient\n",
    "    outcome = mytree.outcome\n",
    "    #print(\"10\")\n",
    "    outcomes.append(outcome)\n",
    "    #print(\"12\")\n",
    "    #print(len(vterm))\n",
    "    #print(torch.cuda.FloatTensor(vterm, requires_grad=True))\n",
    "    test = torch.stack(vterm)\n",
    "    #print(\"true\")\n",
    "    loss = torch.sum((torch.stack(vterm) - outcome) ** 2 + torch.stack(logterm))\n",
    "    #print(\"13\")\n",
    "    optimizer.zero_grad()\n",
    "    #print(\"14\")\n",
    "    loss.backward()\n",
    "    #print(\"15\")\n",
    "    policy_loss.append(float(loss))\n",
    "    #print(\"16\")\n",
    "\n",
    "    optimizer.step()\n",
    "    #print(\"17\")\n",
    "\n",
    "    if e % 1 == 0:\n",
    "        print(\"game: \", e + 1, \", mean loss: {:3.2f}\".format(np.mean(policy_loss[-20:])),\n",
    "              \", recent outcomes: \", outcomes[-10:])\n",
    "\n",
    "    if e % 100 == 0:\n",
    "        torch.save(policy, '6-6-4-pie-{:d}.mypolicy'.format(e))\n",
    "    del loss\n",
    "    #print(game.state)\n",
    "    timer.update(e + 1)\n",
    "\n",
    "timer.finish()"
   ]
  },
  {
   "cell_type": "code",
   "execution_count": null,
   "metadata": {},
   "outputs": [],
   "source": [
    "mytree.explore(policy)"
   ]
  },
  {
   "cell_type": "code",
   "execution_count": null,
   "metadata": {},
   "outputs": [],
   "source": [
    "input = input.to(device)\n",
    "print(input)"
   ]
  },
  {
   "cell_type": "code",
   "execution_count": null,
   "metadata": {},
   "outputs": [],
   "source": [
    "policy(input)"
   ]
  },
  {
   "cell_type": "code",
   "execution_count": null,
   "metadata": {},
   "outputs": [],
   "source": [
    "mytree = MCTS.Node(game)\n",
    "logterm = []\n",
    "vterm = []\n",
    "mytree.explore(policy)\n",
    "\n",
    "current_player = mytree.game.player\n",
    "current_player = mytree.game.player\n",
    "mytree, (v, nn_v, p, nn_p) = mytree.next()\n",
    "mytree.detach_mother()\n",
    "loglist = torch.log(nn_p) * p\n",
    "constant = torch.where(p > 0, p * torch.log(p), torch.tensor(0.).cuda())\n",
    "logterm.append(-torch.sum(loglist - constant))\n",
    "\n",
    "vterm.append(nn_v * current_player)\n",
    "game.fire(mytree.game.last_move)"
   ]
  },
  {
   "cell_type": "code",
   "execution_count": null,
   "metadata": {},
   "outputs": [],
   "source": [
    "print(nn_p)"
   ]
  },
  {
   "cell_type": "code",
   "execution_count": null,
   "metadata": {},
   "outputs": [],
   "source": [
    "import matplotlib.pyplot as plt\n",
    "\n",
    "% matplotlib notebook\n",
    "plt.plot(losses)\n",
    "plt.show()\n"
   ]
  },
  {
   "cell_type": "code",
   "execution_count": null,
   "metadata": {},
   "outputs": [],
   "source": [
    "#cell to test play with interactive engine\n",
    "from battleships import Battleships as Game\n",
    "from engines import InteractiveEngine, RandomEngine, A0, CompoundEngine\n",
    "\n",
    "#   _____   _                       _                     _           _\n",
    "#  / ____| | |                     | |                   (_)         | |\n",
    "# | (___   | |__     ___     ___   | |_   _   _     ___   _   _ __   | | __  _   _      __ _    __ _   _ __ ___     ___\n",
    "#  \\___ \\  | '_ \\   / _ \\   / _ \\  | __| | | | |   / __| | | | '_ \\  | |/ / | | | |    / _` |  / _` | | '_ ` _ \\   / _ \\\n",
    "#  ____) | | | | | | (_) | | (_) | | |_  | |_| |   \\__ \\ | | | | | | |   <  | |_| |   | (_| | | (_| | | | | | | | |  __/\n",
    "# |_____/  |_| |_|  \\___/   \\___/   \\__|  \\__, |   |___/ |_| |_| |_| |_|\\_\\  \\__, |    \\__, |  \\__,_| |_| |_| |_|  \\___|\n",
    "#                                          __/ |                              __/ |     __/ |\n",
    "#                                         |___/                              |___/     |___/\n",
    "\n",
    "def play(player1Factory, player2Factory):\n",
    "    \"\"\"Play a game of Battleships\n",
    "        player1Factory and player2Factory should be functions capable of turning\n",
    "        a Battleships instance into an Engine for their respective players\n",
    "    \"\"\"\n",
    "    game = Game()\n",
    "\n",
    "    #Construct the two players from the given Engine factories\n",
    "    p1 = player1Factory(game)\n",
    "    p2 = player2Factory(game)\n",
    "\n",
    "    #Get each engine to place down its ships\n",
    "    p1.placeShips()\n",
    "    p2.placeShips()\n",
    "\n",
    "    while True:\n",
    "        game.loud = p1.isTalkative()\n",
    "        p1.attackShips()\n",
    "        if game.score is not None: break  #Player 1 win\n",
    "\n",
    "        game.loud = p2.isTalkative()\n",
    "        p2.attackShips()\n",
    "        if game.score is not None: break  #Player 2 win\n",
    "\n",
    "    if not game.loud: print(f\"Player {max(-game.player, 0) + 1} has won!\")\n",
    "    print(f\"Game ended after {game.n_moves // 2} turns\")\n",
    "\n",
    "#if __name__ == \"__main__\":\n",
    "    #play(InteractiveEngine, RandomEngine)\n",
    "\n",
    "if __name__ == \"__main__\":\n",
    "    play(A0, InteractiveEngine)\n"
   ]
  },
  {
   "cell_type": "code",
   "execution_count": null,
   "metadata": {},
   "outputs": [],
   "source": []
  },
  {
   "cell_type": "code",
   "execution_count": null,
   "metadata": {},
   "outputs": [],
   "source": []
  },
  {
   "cell_type": "code",
   "execution_count": null,
   "metadata": {},
   "outputs": [],
   "source": []
  }
 ],
 "metadata": {
  "kernelspec": {
   "display_name": "Python 3",
   "language": "python",
   "name": "python3"
  },
  "language_info": {
   "codemirror_mode": {
    "name": "ipython",
    "version": 3
   },
   "file_extension": ".py",
   "mimetype": "text/x-python",
   "name": "python",
   "nbconvert_exporter": "python",
   "pygments_lexer": "ipython3",
   "version": "3.6.9"
  }
 },
 "nbformat": 4,
 "nbformat_minor": 4
}
